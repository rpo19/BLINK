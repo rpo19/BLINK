{
 "cells": [
  {
   "cell_type": "code",
   "execution_count": 1,
   "id": "232cd3e6",
   "metadata": {},
   "outputs": [],
   "source": [
    "from TrieNER import TrieNER\n",
    "import pandas as pd"
   ]
  },
  {
   "cell_type": "code",
   "execution_count": 2,
   "id": "eb9efcd2",
   "metadata": {},
   "outputs": [],
   "source": [
    "tner = TrieNER()"
   ]
  },
  {
   "cell_type": "code",
   "execution_count": 3,
   "id": "ee9ef56d",
   "metadata": {},
   "outputs": [
    {
     "name": "stderr",
     "output_type": "stream",
     "text": [
      "/tmp/ipykernel_291202/1847730966.py:2: ParserWarning: Length of header or names does not match length of data. This leads to a loss of data with index_col=False.\n",
      "  data = pd.read_csv('./data/cartepostali.csv', index_col=False)\n",
      "100%|██████████████████████████████████████████████████████████████████████████████████████████████████████████████████████████████████████████████████████| 214/214 [00:00<00:00, 8017.55it/s]\n",
      "100%|█████████████████████████████████████████████████████████████████████████████████████████████████████████████████████████████████████████████████████| 214/214 [00:00<00:00, 62807.44it/s]\n"
     ]
    }
   ],
   "source": [
    "# CARTE POSTALI (NomeCognome, Natoa, CF)\n",
    "data = pd.read_csv('./data/cartepostali.csv', index_col=False)\n",
    "# add persons\n",
    "tner.add_entities(list(data['NomeCognome']), 'PER')\n",
    "# add places\n",
    "tner.add_entities(list(data['Natoa']), 'LOC', False)\n",
    "# add miscellaneous\n",
    "# tner.add_entities(list(data['CF']), 'MISC', False)"
   ]
  },
  {
   "cell_type": "code",
   "execution_count": 4,
   "id": "24e4735d",
   "metadata": {},
   "outputs": [
    {
     "name": "stderr",
     "output_type": "stream",
     "text": [
      "100%|██████████████████████████████████████████████████████████████████████████████████████████████████████████████████████████████████████████████████████| 184/184 [00:00<00:00, 1506.95it/s]\n",
      "100%|█████████████████████████████████████████████████████████████████████████████████████████████████████████████████████████████████████████████████████| 184/184 [00:00<00:00, 20485.00it/s]\n"
     ]
    }
   ],
   "source": [
    "# DOMANDE INTEGRATE (Cognome, Nome, Luogo, CF)\n",
    "data = pd.read_csv('./data/domande_integrate.csv', index_col=False)\n",
    "# add persons\n",
    "tner.add_entities(list(data['Nome'] + ' ' + data['Cognome']), 'PER')\n",
    "# add places\n",
    "tner.add_entities(list(data['Luogo']), 'LOC', False)\n",
    "# add miscellaneous\n",
    "# tner.add_entities(list(data['CF']), 'MISC', False)"
   ]
  },
  {
   "cell_type": "code",
   "execution_count": 5,
   "id": "e76e8976",
   "metadata": {},
   "outputs": [],
   "source": [
    "# MOVIMENTI CARTE (Luogo) CANT READ IN PANDAS\n",
    "# data = pd.read_csv('./data/movcarte.csv', index_col=False)\n",
    "# # add places\n",
    "# tner.add_entities(list(data['Luogo']), 'LOCATION', False)"
   ]
  },
  {
   "cell_type": "code",
   "execution_count": 6,
   "id": "cf288794",
   "metadata": {},
   "outputs": [
    {
     "name": "stderr",
     "output_type": "stream",
     "text": [
      "100%|██████████████████████████████████████████████████████████████████████████████████████████████████████████████████████████████████████████████████████| 135/135 [00:00<00:00, 3416.59it/s]\n"
     ]
    }
   ],
   "source": [
    "# NUCLEI FAMILIARI (CognomeCongiunto, NomeCongiunto, Luogo, CFDichiarante)\n",
    "data = pd.read_csv('./data/nucleifamiliari.csv', index_col=False)\n",
    "# add persons\n",
    "tner.add_entities(list(data['NomeCongiunto'] + ' ' + data['CognomeCongiunto']), 'PER')\n",
    "# add miscellaneous\n",
    "# tner.add_entities(list(data['CFDichiarante']), 'MISC', False)"
   ]
  },
  {
   "cell_type": "code",
   "execution_count": 9,
   "id": "ddf80b46",
   "metadata": {},
   "outputs": [],
   "source": [
    "tner.save()"
   ]
  }
 ],
 "metadata": {
  "kernelspec": {
   "display_name": "Python 3 (ipykernel)",
   "language": "python",
   "name": "python3"
  },
  "language_info": {
   "codemirror_mode": {
    "name": "ipython",
    "version": 3
   },
   "file_extension": ".py",
   "mimetype": "text/x-python",
   "name": "python",
   "nbconvert_exporter": "python",
   "pygments_lexer": "ipython3",
   "version": "3.8.10"
  }
 },
 "nbformat": 4,
 "nbformat_minor": 5
}
