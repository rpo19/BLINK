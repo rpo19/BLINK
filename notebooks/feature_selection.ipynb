{
 "cells": [
  {
   "cell_type": "code",
   "execution_count": null,
   "id": "f2f76a5f",
   "metadata": {},
   "outputs": [],
   "source": [
    "import pandas as pd\n",
    "import seaborn as sns\n",
    "from matplotlib import pyplot as plt\n",
    "import re"
   ]
  },
  {
   "cell_type": "code",
   "execution_count": null,
   "id": "4953fd86",
   "metadata": {},
   "outputs": [],
   "source": [
    "sns.set(style='ticks', palette='Set2')\n",
    "sns.despine()"
   ]
  },
  {
   "cell_type": "code",
   "execution_count": null,
   "id": "d3d4e430",
   "metadata": {},
   "outputs": [],
   "source": [
    "whole = pd.read_pickle('../data/nil_dataset.pickle')"
   ]
  },
  {
   "cell_type": "markdown",
   "id": "3a34f41a",
   "metadata": {},
   "source": [
    "### Top-10 bi"
   ]
  },
  {
   "cell_type": "code",
   "execution_count": null,
   "id": "236205d2",
   "metadata": {},
   "outputs": [],
   "source": [
    "cor_bi = whole[[\n",
    "    'bi_stats_10_max',\n",
    "    'bi_stats_10_mean',\n",
    "    'bi_stats_10_median',\n",
    "    'bi_stats_10_stdev',\n",
    "    'y_bi'\n",
    "]].rename(columns={\n",
    "    'bi_stats_10_max': 'max',\n",
    "    'bi_stats_10_mean': 'mean',\n",
    "    'bi_stats_10_median': 'median',\n",
    "    'bi_stats_10_stdev': 'stdev',\n",
    "    'y_bi': 'y'\n",
    "}).corr()"
   ]
  },
  {
   "cell_type": "code",
   "execution_count": null,
   "id": "6828c8a4",
   "metadata": {},
   "outputs": [],
   "source": [
    "plt.figure(figsize=(7,5),dpi = 100) \n",
    "ax = sns.heatmap(cor_bi, annot=True)\n",
    "plt.tick_params(axis = 'x', labelsize = 12) # x font label size\n",
    "plt.tick_params(axis = 'y', labelsize = 12) # y font label size\n",
    "ax.set_title('correlation stats-y_bi')"
   ]
  },
  {
   "cell_type": "markdown",
   "id": "64ec1070",
   "metadata": {},
   "source": [
    "### Top-10 cross"
   ]
  },
  {
   "cell_type": "code",
   "execution_count": null,
   "id": "3a300d63",
   "metadata": {},
   "outputs": [],
   "source": [
    "cor_cross = whole[[\n",
    "    'cross_stats_10_max',\n",
    "    'cross_stats_10_mean',\n",
    "    'cross_stats_10_median',\n",
    "    'cross_stats_10_stdev',\n",
    "    'y_cross'\n",
    "]].rename(columns={\n",
    "    'cross_stats_10_max': 'max',\n",
    "    'cross_stats_10_mean': 'mean',\n",
    "    'cross_stats_10_median': 'median',\n",
    "    'cross_stats_10_stdev': 'stdev',\n",
    "    'y_cross': 'y'\n",
    "}).corr()"
   ]
  },
  {
   "cell_type": "code",
   "execution_count": null,
   "id": "41d92db4",
   "metadata": {},
   "outputs": [],
   "source": [
    "plt.figure(figsize=(7,5),dpi = 100) \n",
    "ax = sns.heatmap(cor_cross, annot=True)\n",
    "plt.tick_params(axis = 'x', labelsize = 12) # x font label size\n",
    "plt.tick_params(axis = 'y', labelsize = 12) # y font label size\n",
    "ax.set_title('correlation stats-y_cross')"
   ]
  },
  {
   "cell_type": "markdown",
   "id": "77ff2f4e",
   "metadata": {},
   "source": [
    "### Stdev study bi"
   ]
  },
  {
   "cell_type": "code",
   "execution_count": null,
   "id": "29c3630a",
   "metadata": {},
   "outputs": [],
   "source": [
    "cor_stdev_bi = whole[sorted([c for c in whole.columns if c.endswith('stdev') and c.startswith('bi')],\n",
    "       key=lambda x: int(re.match('.*?([0-9]+).*?', x).group(1))) + ['y_bi']].corr()"
   ]
  },
  {
   "cell_type": "code",
   "execution_count": null,
   "id": "deebaf2e",
   "metadata": {},
   "outputs": [],
   "source": [
    "fig = plt.figure(dpi=100)\n",
    "cor_stdev_bi.rename(\n",
    "    index={i:re.match('.*?([0-9]+).*?', i).group(1) for i in cor_stdev_bi.index if re.match('.*?([0-9]+).*?', i)}\n",
    ").loc[[re.match('.*?([0-9]+).*?', i).group(1) for i in cor_stdev_bi.index if i != 'y_bi'],['y_bi']].rename(columns={\n",
    "    'y_bi': 'y_correlation'\n",
    "    }).plot(\n",
    "    title='stdev bi', ax = plt.gca())"
   ]
  },
  {
   "cell_type": "markdown",
   "id": "a7e2b81e",
   "metadata": {},
   "source": [
    "### stdev study cross"
   ]
  },
  {
   "cell_type": "code",
   "execution_count": null,
   "id": "459826cf",
   "metadata": {},
   "outputs": [],
   "source": [
    "cor_stdev_cross = whole[sorted([c for c in whole.columns if c.endswith('stdev') and c.startswith('cross')],\n",
    "       key=lambda x: int(re.match('.*?([0-9]+).*?', x).group(1))) + ['y_cross']].corr()"
   ]
  },
  {
   "cell_type": "code",
   "execution_count": null,
   "id": "f41290bf",
   "metadata": {},
   "outputs": [],
   "source": [
    "fig = plt.figure(dpi=100)\n",
    "cor_stdev_cross.rename(\n",
    "    index={i:re.match('.*?([0-9]+).*?', i).group(1) for i in cor_stdev_cross.index if re.match('.*?([0-9]+).*?', i)}\n",
    ").loc[[re.match('.*?([0-9]+).*?', i).group(1) for i in cor_stdev_cross.index if i != 'y_cross'],['y_cross']].rename(columns={\n",
    "    'y_cross': 'y_correlation'\n",
    "    }).plot(\n",
    "    title='stdev cross', ax = plt.gca())"
   ]
  },
  {
   "cell_type": "markdown",
   "id": "1cf15420",
   "metadata": {},
   "source": [
    "## Text distances correlation"
   ]
  },
  {
   "cell_type": "code",
   "execution_count": null,
   "id": "29e43b06",
   "metadata": {},
   "outputs": [],
   "source": [
    "text_distances = ['hamming',\n",
    " 'mlipns',\n",
    " 'levenshtein',\n",
    " 'dameraulevenshtein',\n",
    " 'jarowinkler',\n",
    " 'strcmp95',\n",
    " 'needlemanwunsch',\n",
    " 'gotoh',\n",
    " 'smithwaterman',\n",
    " 'jaccard',\n",
    " 'sorensen',\n",
    " 'tversky',\n",
    " 'overlap',\n",
    " 'tanimoto',\n",
    " 'cosine',\n",
    " 'mongeelkan',\n",
    " 'bag',\n",
    " 'lcsseq',\n",
    " 'lcsstr',\n",
    " 'editex']"
   ]
  },
  {
   "cell_type": "markdown",
   "id": "90895c4f",
   "metadata": {},
   "source": [
    "### cross"
   ]
  },
  {
   "cell_type": "code",
   "execution_count": null,
   "id": "44210d7c",
   "metadata": {},
   "outputs": [],
   "source": [
    "textd_corr_cross = whole[[f'cross_{i}' for i in text_distances]+['y_cross']].rename(\n",
    "    columns={f'cross_{i}':i for i in text_distances}|{'y_cross':'y'}).corr()"
   ]
  },
  {
   "cell_type": "code",
   "execution_count": null,
   "id": "39a727f7",
   "metadata": {},
   "outputs": [],
   "source": [
    "top_10_cross = textd_corr_cross['y'].sort_values(ascending=False).index[0:11]"
   ]
  },
  {
   "cell_type": "code",
   "execution_count": null,
   "id": "d99c391d",
   "metadata": {},
   "outputs": [],
   "source": [
    "# only the top-10\n",
    "textd_corr_cross = textd_corr_cross.loc[top_10_cross, top_10_cross]"
   ]
  },
  {
   "cell_type": "code",
   "execution_count": null,
   "id": "46595af7",
   "metadata": {},
   "outputs": [],
   "source": [
    "plt.figure(figsize=(12,10), dpi = 100)\n",
    "textd_corr_cross_noy = textd_corr_cross.loc[set(textd_corr_cross.columns)-set('y'), set(textd_corr_cross.columns)-set('y')]\n",
    "ax = sns.heatmap(textd_corr_cross_noy, annot=True)\n",
    "plt.tick_params(axis = 'x', labelsize = 12) # x font label size\n",
    "plt.tick_params(axis = 'y', labelsize = 12) # y font label size\n",
    "ax.set_title('correlation text_sim-y_cross')"
   ]
  },
  {
   "cell_type": "code",
   "execution_count": null,
   "id": "ec09fa08",
   "metadata": {},
   "outputs": [],
   "source": [
    "plt.figure(figsize=(2,6), dpi = 100) \n",
    "ax = sns.heatmap(textd_corr_cross.loc[set(textd_corr_cross.columns)-set('y'),['y']].sort_values(by='y'), annot=True)\n",
    "plt.tick_params(axis = 'x', labelsize = 12) # x font label size\n",
    "plt.tick_params(axis = 'y', labelsize = 12) # y font label size\n",
    "ax.set_title('correlation text_sim-y_cross')"
   ]
  },
  {
   "cell_type": "markdown",
   "id": "5c925b6a",
   "metadata": {},
   "source": [
    "### bi"
   ]
  },
  {
   "cell_type": "code",
   "execution_count": null,
   "id": "3bbfb5f4",
   "metadata": {},
   "outputs": [],
   "source": [
    "textd_corr_bi = whole[[f'bi_{i}' for i in text_distances]+['y_bi']].rename(\n",
    "    columns={f'bi_{i}':i for i in text_distances}|{'y_bi':'y'}).corr()"
   ]
  },
  {
   "cell_type": "code",
   "execution_count": null,
   "id": "b65f12bc",
   "metadata": {},
   "outputs": [],
   "source": [
    "top_10_bi = textd_corr_bi['y'].sort_values(ascending=False).index[0:11]"
   ]
  },
  {
   "cell_type": "code",
   "execution_count": null,
   "id": "0159cd29",
   "metadata": {},
   "outputs": [],
   "source": [
    "# only the top-10\n",
    "textd_corr_bi = textd_corr_bi.loc[top_10_bi, top_10_bi]"
   ]
  },
  {
   "cell_type": "code",
   "execution_count": null,
   "id": "ab1e0f0d",
   "metadata": {},
   "outputs": [],
   "source": [
    "plt.figure(figsize=(12,10), dpi = 100)\n",
    "textd_corr_bi_noy = textd_corr_bi.loc[set(textd_corr_bi.columns)-set('y'), set(textd_corr_bi.columns)-set('y')]\n",
    "ax = sns.heatmap(textd_corr_bi_noy, annot=True)\n",
    "plt.tick_params(axis = 'x', labelsize = 12) # x font label size\n",
    "plt.tick_params(axis = 'y', labelsize = 12) # y font label size\n",
    "ax.set_title('correlation text_sim-y_bi')"
   ]
  },
  {
   "cell_type": "code",
   "execution_count": null,
   "id": "eb8baf09",
   "metadata": {},
   "outputs": [],
   "source": [
    "plt.figure(figsize=(2,6), dpi = 100) \n",
    "ax = sns.heatmap(textd_corr_bi.loc[set(textd_corr_bi.columns)-set('y'),['y']].sort_values(by='y'), annot=True)\n",
    "plt.tick_params(axis = 'x', labelsize = 12) # x font label size\n",
    "plt.tick_params(axis = 'y', labelsize = 12) # y font label size\n",
    "ax.set_title('correlation text_sim-y_bi')"
   ]
  }
 ],
 "metadata": {
  "kernelspec": {
   "display_name": "Python 3 (ipykernel)",
   "language": "python",
   "name": "python3"
  },
  "language_info": {
   "codemirror_mode": {
    "name": "ipython",
    "version": 3
   },
   "file_extension": ".py",
   "mimetype": "text/x-python",
   "name": "python",
   "nbconvert_exporter": "python",
   "pygments_lexer": "ipython3",
   "version": "3.9.7"
  }
 },
 "nbformat": 4,
 "nbformat_minor": 5
}
