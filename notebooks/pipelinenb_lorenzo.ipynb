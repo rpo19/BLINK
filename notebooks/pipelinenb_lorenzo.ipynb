{
 "cells": [
  {
   "cell_type": "code",
   "execution_count": null,
   "id": "a0697097",
   "metadata": {},
   "outputs": [],
   "source": [
    "import requests\n",
    "import re\n",
    "import numpy as np\n",
    "import pandas as pd\n",
    "import json"
   ]
  },
  {
   "cell_type": "code",
   "execution_count": null,
   "id": "6971890e",
   "metadata": {},
   "outputs": [],
   "source": [
    "biencoder = 'http://localhost:30300/api/blink/biencoder' # mention # entity\n",
    "biencoder_mention = f'{biencoder}/mention'\n",
    "biencoder_entity = f'{biencoder}/entity'\n",
    "crossencoder = 'http://localhost:30302/api/blink/crossencoder'\n",
    "indexer = 'http://localhost:30301/api/indexer' # search # add\n",
    "indexer_search = f'{indexer}/search'\n",
    "indexer_add = f'{indexer}/add'\n",
    "nilpredictor = 'http://localhost:30303/api/nilprediction'\n",
    "nilcluster = 'http://localhost:30305/api/nilcluster'"
   ]
  },
  {
   "cell_type": "code",
   "execution_count": null,
   "id": "ca5577d5",
   "metadata": {},
   "outputs": [],
   "source": [
    "data = pd.read_json('/home/lsasso/test_unseen_mention/test.json', lines=True)"
   ]
  },
  {
   "cell_type": "code",
   "execution_count": null,
   "id": "e2011102",
   "metadata": {},
   "outputs": [],
   "source": [
    "data = data.rename(columns={'right_context_text': 'context_right', 'left_context_text': 'context_left', 'word': 'mention'})"
   ]
  },
  {
   "cell_type": "markdown",
   "id": "6ae77824",
   "metadata": {},
   "source": [
    "## Entity Linking"
   ]
  },
  {
   "cell_type": "markdown",
   "id": "b7408d78",
   "metadata": {},
   "source": [
    "### Encoding"
   ]
  },
  {
   "cell_type": "code",
   "execution_count": null,
   "id": "f4bb5f8f",
   "metadata": {},
   "outputs": [],
   "source": [
    "res_biencoder = requests.post(biencoder_mention, json=data.to_dict(orient='records'))"
   ]
  },
  {
   "cell_type": "code",
   "execution_count": null,
   "id": "8b332f64",
   "metadata": {},
   "outputs": [],
   "source": [
    "if res_biencoder.ok:\n",
    "    data['encoding'] = res_biencoder.json()['encodings']\n",
    "else:\n",
    "    print('Biencoder ERROR')\n",
    "    print(res_biencoder)"
   ]
  },
  {
   "cell_type": "code",
   "execution_count": null,
   "id": "b106132a",
   "metadata": {},
   "outputs": [],
   "source": [
    "print('Encoded {} entities.'.format(data.shape[0]))"
   ]
  },
  {
   "cell_type": "code",
   "execution_count": null,
   "id": "c6e87d6b",
   "metadata": {},
   "outputs": [],
   "source": [
    "data.head()"
   ]
  },
  {
   "cell_type": "markdown",
   "id": "e1c57a0e",
   "metadata": {},
   "source": [
    "### Retrieval"
   ]
  },
  {
   "cell_type": "code",
   "execution_count": null,
   "id": "850928c8",
   "metadata": {},
   "outputs": [],
   "source": [
    "body = {\n",
    "    'encodings': data['encoding'].values.tolist(),\n",
    "    'top_k': 10\n",
    "}\n",
    "res_indexer = requests.post(indexer_search, json=body)"
   ]
  },
  {
   "cell_type": "code",
   "execution_count": null,
   "id": "2271c061",
   "metadata": {},
   "outputs": [],
   "source": [
    "if res_indexer.ok:\n",
    "    candidates = res_indexer.json()\n",
    "else:\n",
    "    print('ERROR with the indexer.')\n",
    "    print(res_indexer)\n",
    "    print(res_indexer.json())"
   ]
  },
  {
   "cell_type": "code",
   "execution_count": null,
   "id": "69b0c819",
   "metadata": {},
   "outputs": [],
   "source": [
    "if len(candidates) == 0 or len(candidates[0]) == 0:\n",
    "    print('No candidates received.')\n",
    "else:\n",
    "    _top_k = len(candidates[0])\n",
    "    for _cand in candidates:\n",
    "        assert len(_cand) == _top_k\n",
    "    print('Received {} candidates for all the {} entities.'.format(_top_k, len(candidates)))"
   ]
  },
  {
   "cell_type": "code",
   "execution_count": null,
   "id": "844c9ee2",
   "metadata": {},
   "outputs": [],
   "source": [
    "data['candidates'] = candidates"
   ]
  },
  {
   "cell_type": "code",
   "execution_count": null,
   "id": "f1785e61",
   "metadata": {},
   "outputs": [],
   "source": [
    "data.head()"
   ]
  },
  {
   "cell_type": "markdown",
   "id": "63d65d4a",
   "metadata": {},
   "source": [
    "### Crossencoder"
   ]
  },
  {
   "cell_type": "code",
   "execution_count": null,
   "id": "8b60729b",
   "metadata": {},
   "outputs": [],
   "source": [
    "res_cross = requests.post(crossencoder, json= {\n",
    "    'samples': data[['context_left', 'context_right', 'mention']].to_dict(orient='records'),\n",
    "    'candidates': data['candidates'].tolist()\n",
    "})"
   ]
  },
  {
   "cell_type": "code",
   "execution_count": null,
   "id": "6e1535d7",
   "metadata": {},
   "outputs": [],
   "source": [
    "res_cross.json()"
   ]
  },
  {
   "cell_type": "code",
   "execution_count": null,
   "id": "a81aa855",
   "metadata": {},
   "outputs": [],
   "source": [
    "data['candidates']"
   ]
  },
  {
   "cell_type": "code",
   "execution_count": null,
   "id": "f5dcc1be",
   "metadata": {},
   "outputs": [],
   "source": [
    "if res_cross.ok:\n",
    "    data = data.rename(columns={'candidates': 'candidates_bi'})\n",
    "    data['candidates'] = res_cross.json()\n",
    "else:\n",
    "    print('ERROR with the crossencoder.')\n",
    "    print(res_cross)\n",
    "    print(res_cross.json())"
   ]
  },
  {
   "cell_type": "code",
   "execution_count": null,
   "id": "ea4e7011",
   "metadata": {},
   "outputs": [],
   "source": [
    "data"
   ]
  },
  {
   "cell_type": "code",
   "execution_count": null,
   "id": "5f0c4fed",
   "metadata": {},
   "outputs": [],
   "source": [
    "def prepare_for_nil_prediction(x):\n",
    "    c = x['candidates']\n",
    "\n",
    "    is_nil = False\n",
    "    features = {}\n",
    "\n",
    "    if len(c) == 0:\n",
    "        is_nil = True\n",
    "        return is_nil, features\n",
    "        \n",
    "    is_cross = 'is_cross' in c[0] and c[0]['is_cross']\n",
    "    \n",
    "    features = {}\n",
    "    if not is_cross:\n",
    "        # bi only\n",
    "        features['max_bi'] = c[0]['score']\n",
    "    else:\n",
    "        # cross\n",
    "        if 'bi_score' in c[0]:\n",
    "            features['max_bi'] = c[0]['bi_score']\n",
    "        features['max_cross'] = c[0]['score']\n",
    "        \n",
    "    features['mention'] = x['mention']\n",
    "    features['title'] = c[0]['title']\n",
    "    \n",
    "    return is_nil, features"
   ]
  },
  {
   "cell_type": "code",
   "execution_count": null,
   "id": "53a54d39",
   "metadata": {},
   "outputs": [],
   "source": [
    "data[['is_nil', 'nil_features']] = data.apply(prepare_for_nil_prediction, axis=1, result_type='expand')"
   ]
  },
  {
   "cell_type": "code",
   "execution_count": null,
   "id": "c5699536",
   "metadata": {},
   "outputs": [],
   "source": [
    "data.head()"
   ]
  },
  {
   "cell_type": "markdown",
   "id": "6ae89344",
   "metadata": {},
   "source": [
    "## NIL prediction"
   ]
  },
  {
   "cell_type": "code",
   "execution_count": null,
   "id": "b4d889a1",
   "metadata": {},
   "outputs": [],
   "source": [
    "# prepare fields (default NIL)\n",
    "data['nil_score'] = np.zeros(data.shape[0])"
   ]
  },
  {
   "cell_type": "code",
   "execution_count": null,
   "id": "aa7f9b04",
   "metadata": {},
   "outputs": [],
   "source": [
    "not_yet_nil = data.query('is_nil == False')"
   ]
  },
  {
   "cell_type": "code",
   "execution_count": null,
   "id": "f1bbad19",
   "metadata": {},
   "outputs": [],
   "source": [
    "if not_yet_nil.shape[0] > 0:\n",
    "    res_nilpredictor = requests.post(nilpredictor, json=not_yet_nil['nil_features'].values.tolist())\n",
    "    if res_nilpredictor.ok:\n",
    "        # TODO use cross if available\n",
    "        nil_scores = np.array(res_nilpredictor.json()['nil_score_bi'])\n",
    "    else:\n",
    "        print('ERROR during NIL prediction')\n",
    "        print(res_nilpredictor)\n",
    "        print(res_nilpredictor.json())"
   ]
  },
  {
   "cell_type": "code",
   "execution_count": null,
   "id": "52165341",
   "metadata": {},
   "outputs": [],
   "source": [
    "data.loc[not_yet_nil.index, 'nil_score'] = nil_scores"
   ]
  },
  {
   "cell_type": "code",
   "execution_count": null,
   "id": "2acfafff",
   "metadata": {},
   "outputs": [],
   "source": [
    "nil_threshold = 0.5\n",
    "# if below threshold --> is NIL\n",
    "data['is_nil'] = data['nil_score'].apply(lambda x: x < nil_threshold)"
   ]
  },
  {
   "cell_type": "code",
   "execution_count": null,
   "id": "2ca238f0",
   "metadata": {},
   "outputs": [],
   "source": [
    "data.head()"
   ]
  },
  {
   "cell_type": "code",
   "execution_count": null,
   "id": "89f1242b",
   "metadata": {},
   "outputs": [],
   "source": [
    "print('Estimated {} entities as NOT NIL'.format(data.eval('is_nil == False').sum()))\n",
    "print('Estimated {} entities as NIL'.format(data.eval('is_nil == True').sum()))"
   ]
  },
  {
   "cell_type": "code",
   "execution_count": null,
   "id": "6aee5e8b",
   "metadata": {},
   "outputs": [],
   "source": [
    "data['top_title'] = data['candidates'].apply(lambda x: x[0]['title'])"
   ]
  },
  {
   "cell_type": "code",
   "execution_count": null,
   "id": "5128fa96",
   "metadata": {},
   "outputs": [],
   "source": [
    "# not NIL\n",
    "data.query('is_nil == False')[['mention', 'top_title']].head()"
   ]
  },
  {
   "cell_type": "markdown",
   "id": "86254b5c",
   "metadata": {},
   "source": [
    "## Entity Clustering"
   ]
  },
  {
   "cell_type": "code",
   "execution_count": null,
   "id": "4e4bea4e",
   "metadata": {},
   "outputs": [],
   "source": [
    "nil_mentions = data.query('is_nil == True')"
   ]
  },
  {
   "cell_type": "code",
   "execution_count": null,
   "id": "674163a7",
   "metadata": {},
   "outputs": [],
   "source": [
    "res_nilcluster = requests.post(nilcluster, json={\n",
    "        'ids': nil_mentions.index.tolist(),\n",
    "        'mentions': nil_mentions['mention'].values.tolist(),\n",
    "        'encodings': nil_mentions['encoding'].values.tolist()\n",
    "    })"
   ]
  },
  {
   "cell_type": "code",
   "execution_count": null,
   "id": "fa055698",
   "metadata": {},
   "outputs": [],
   "source": [
    "if not res_nilcluster.ok:\n",
    "    print('NIL cluster ERROR')\n",
    "else:\n",
    "    print('OK')"
   ]
  },
  {
   "cell_type": "code",
   "execution_count": null,
   "id": "b701b02b",
   "metadata": {},
   "outputs": [],
   "source": [
    "clusters = pd.DataFrame(res_nilcluster.json())"
   ]
  },
  {
   "cell_type": "code",
   "execution_count": null,
   "id": "35d25dcc",
   "metadata": {},
   "outputs": [],
   "source": [
    "clusters = clusters.sort_values(by='nelements', ascending=False)"
   ]
  },
  {
   "cell_type": "code",
   "execution_count": null,
   "id": "f37f3b38",
   "metadata": {},
   "outputs": [],
   "source": [
    "# TODO considero i tipi nel clustering"
   ]
  },
  {
   "cell_type": "code",
   "execution_count": null,
   "id": "2b98f7f7",
   "metadata": {},
   "outputs": [],
   "source": [
    "clusters.head()\n",
    "#clusters"
   ]
  },
  {
   "cell_type": "code",
   "execution_count": null,
   "id": "33b681f8",
   "metadata": {},
   "outputs": [],
   "source": [
    "clusters['nelements'].plot(kind='hist', bins=20)"
   ]
  },
  {
   "cell_type": "code",
   "execution_count": null,
   "id": "aa98f556",
   "metadata": {},
   "outputs": [],
   "source": [
    "print('Found {} clusters out of {} NIL mentions.'.format(clusters.shape[0], nil_mentions.shape[0]))"
   ]
  },
  {
   "cell_type": "code",
   "execution_count": null,
   "id": "e5926c87",
   "metadata": {},
   "outputs": [],
   "source": [
    "outdata = './outdata.pickle'\n",
    "data.to_pickle(outdata)"
   ]
  },
  {
   "cell_type": "code",
   "execution_count": null,
   "id": "9c7bc0b6",
   "metadata": {},
   "outputs": [],
   "source": [
    "outclusters ='./outclusters.pickle'\n",
    "clusters.to_pickle(outclusters)"
   ]
  }
 ],
 "metadata": {
  "kernelspec": {
   "display_name": "Python 3 (ipykernel)",
   "language": "python",
   "name": "python3"
  },
  "language_info": {
   "codemirror_mode": {
    "name": "ipython",
    "version": 3
   },
   "file_extension": ".py",
   "mimetype": "text/x-python",
   "name": "python",
   "nbconvert_exporter": "python",
   "pygments_lexer": "ipython3",
   "version": "3.7.11"
  }
 },
 "nbformat": 4,
 "nbformat_minor": 5
}
